{
 "cells": [
  {
   "cell_type": "code",
   "execution_count": 1,
   "id": "a189947b-0e37-46e8-8ffe-f20a4278dfff",
   "metadata": {},
   "outputs": [],
   "source": [
    "# Import required libraries\n",
    "import pandas as pd\n",
    "import dash\n",
    "from dash import html\n",
    "from dash import dcc\n",
    "from dash.dependencies import Input, Output, State\n",
    "import plotly.graph_objects as go\n",
    "import plotly.express as px\n",
    "from dash import no_update"
   ]
  },
  {
   "cell_type": "code",
   "execution_count": 2,
   "id": "0ec4d1b4-fc40-44a8-8fff-beb92b1e110b",
   "metadata": {},
   "outputs": [],
   "source": [
    "import wget"
   ]
  },
  {
   "cell_type": "code",
   "execution_count": 3,
   "id": "8ecedcc3-8209-4bca-94b5-5f49832b271f",
   "metadata": {},
   "outputs": [],
   "source": [
    "wget=\"https://cf-courses-data.s3.us.cloud-object-storage.appdomain.cloud/IBM-DS0321EN-SkillsNetwork/datasets/spacex_launch_dash.csv\""
   ]
  },
  {
   "cell_type": "code",
   "execution_count": 4,
   "id": "e934f93e-2c51-47b0-a18c-b3ed797fb3ee",
   "metadata": {},
   "outputs": [],
   "source": [
    "wget=\"https://cf-courses-data.s3.us.cloud-object-storage.appdomain.cloud/IBM-DS0321EN-SkillsNetwork/labs/module_3/spacex_dash_app.py\""
   ]
  },
  {
   "cell_type": "code",
   "execution_count": 5,
   "id": "a7c79200-1ae7-454a-9c50-e91ecc5069b5",
   "metadata": {},
   "outputs": [],
   "source": [
    "# Read the airline data into pandas dataframe\n",
    "spacex_df = pd.read_csv(\"https://cf-courses-data.s3.us.cloud-object-storage.appdomain.cloud/IBM-DS0321EN-SkillsNetwork/datasets/spacex_launch_dash.csv\")\n",
    "max_payload = spacex_df['Payload Mass (kg)'].max()\n",
    "min_payload = spacex_df['Payload Mass (kg)'].min()"
   ]
  },
  {
   "cell_type": "code",
   "execution_count": 6,
   "id": "8e104c18-fa43-4c7b-ad89-8957d7a9d75b",
   "metadata": {},
   "outputs": [],
   "source": [
    "# Create a dash application\n",
    "app = dash.Dash(__name__)"
   ]
  },
  {
   "cell_type": "code",
   "execution_count": 7,
   "id": "af9c268d-5f4f-438a-9785-3102fb9f28d6",
   "metadata": {},
   "outputs": [],
   "source": [
    "launch_sites_df = spacex_df.groupby(['Launch Site'], as_index=False).first()\n",
    "LSnames = [launch_sites_df['Launch Site']][0]"
   ]
  },
  {
   "cell_type": "code",
   "execution_count": 8,
   "id": "2bc71cac-f3cb-4a96-a14e-f664a59a5a1a",
   "metadata": {},
   "outputs": [],
   "source": [
    "# Create an app layout\n",
    "app.layout = html.Div(children=[html.H1('SpaceX Launch Records Dashboard',\n",
    "                                        style={'textAlign': 'center', 'color': '#503D36',\n",
    "                                               'font-size': 40}),\n",
    "                                # TASK 1: Add a dropdown list to enable Launch Site selection\n",
    "                                # The default select value is for ALL sites\n",
    "                                # dcc.Dropdown(id='site-dropdown',...)\n",
    "                                  dcc.Dropdown(id='site-dropdown',\n",
    "                                               options=[{'label': 'All Sites', 'value': 'ALL'},\n",
    "                                                        {'label': 'CCAFS LC-40', 'value': 'CCAFS LC-40'} ,{'label': 'CCAFS SLC-40', 'value': 'CCAFS SLC-40'} ,\n",
    "                                                        {'label': 'KSC LC-39A', 'value': 'KSC LC-39A'} ,{'label': 'VAFB SLC-4E', 'value': 'VAFB SLC-4E'} \n",
    "                                                       ],\n",
    "                                               value='ALL',\n",
    "                                               placeholder=\"Select a Launch Site here \",\n",
    "                                               searchable=True\n",
    "                                              ),\n",
    "                                html.Br(),\n",
    "\n",
    "                                # TASK 2: Add a pie chart to show the total successful launches count for all sites\n",
    "                                # If a specific launch site was selected, show the Success vs. Failed counts for the site\n",
    "                                html.Div(dcc.Graph(id='success-pie-chart')),\n",
    "                                html.Br(),\n",
    "\n",
    "                                html.P(\"Payload range (Kg):\"),\n",
    "                                # TASK 3: Add a slider to select payload range\n",
    "                                #dcc.RangeSlider(id='payload-slider',...)\n",
    "                                dcc.RangeSlider(id='payload-slider',\n",
    "                                                min=0, max=10000, step=1000,\n",
    "                                                marks={0: '0',100: '100'},\n",
    "                                                value=[min_payload, max_payload]),\n",
    "\n",
    "                                # TASK 4: Add a scatter chart to show the correlation between payload and launch success\n",
    "                                html.Div(dcc.Graph(id='success-payload-scatter-chart')),\n",
    "                                ])"
   ]
  },
  {
   "cell_type": "code",
   "execution_count": 9,
   "id": "f93393ae-e5ab-4baa-89a3-42074a8b0ad7",
   "metadata": {},
   "outputs": [],
   "source": [
    "# TASK 2:\n",
    "# Add a callback function for `site-dropdown` as input, `success-pie-chart` as output\n",
    "# Function decorator to specify function input and output\n",
    "@app.callback(Output(component_id='success-pie-chart', component_property='figure'),\n",
    "              Input(component_id='site-dropdown', component_property='value'))\n",
    "def get_pie_chart(entered_site):\n",
    "    if entered_site == 'ALL':\n",
    "        fig = px.pie(spacex_df, values='class', \n",
    "        names='Launch Site', \n",
    "        title='Total success launches')\n",
    "        return fig\n",
    "    else:\n",
    "        filtered_df= spacex_df[spacex_df['Launch Site']==site-dropdown]\n",
    "        filtered_df=filtered_df.groupby('class').count()\n",
    "        filtered_df['Result']=['Failure','Success']\n",
    "        fig = px.pie(filtered_df, values='Launch Site', \n",
    "        names='Result',  \n",
    "        title='Site success rate')\n",
    "        return fig"
   ]
  },
  {
   "cell_type": "code",
   "execution_count": 10,
   "id": "a134f6be-e6c4-4b00-9abf-d6ae2a9683e5",
   "metadata": {},
   "outputs": [],
   "source": [
    "# TASK 4:\n",
    "# Add a callback function for `site-dropdown` and `payload-slider` as inputs, `success-payload-scatter-chart` as output\n",
    "\n",
    "@app.callback(Output(component_id='success-payload-scatter-chart', component_property='figure'),\n",
    "              [Input(component_id='site-dropdown', component_property='value'),\n",
    "               Input(component_id='payload-slider', component_property='value')])\n",
    "\n",
    "def get_pie_chart(entered_site):\n",
    "    if entered_site == 'ALL':\n",
    "        filtered_df= spacex_df[spacex_df['Payload Mass (kg)']>payload-slider[0]]\n",
    "        filtered_df= filtered_df[filtered_df['Payload Mass (kg)']<payload-slider[1]]\n",
    "        fig = px.scatter(filtered_df,\n",
    "                         x= 'Payload Mass (kg)' ,  \n",
    "                         y= 'class',\n",
    "                         color=\"Booster Version Category\",\n",
    "                         title='Payload range (Kg):')\n",
    "        return fig\n",
    "    else:\n",
    "        filtered_df= spacex_df[spacex_df['Launch Site']==site-dropdown]\n",
    "        filtered_df= filtered_df[filtered_df['Payload Mass (kg)']>payload-slider[0]]\n",
    "        filtered_df= filtered_df[filtered_df['Payload Mass (kg)']<payload-slider[1]]\n",
    "        fig = px.scatter(filtered_df,\n",
    "                 x= 'Payload Mass (kg)' ,  \n",
    "                 y= 'class',\n",
    "                 color=\"Booster Version Category\",\n",
    "                 title='Payload range (Kg):')\n",
    "        return fig"
   ]
  },
  {
   "cell_type": "code",
   "execution_count": null,
   "id": "d157e7c1",
   "metadata": {},
   "outputs": [],
   "source": [
    "filtered_df= spacex_df[spacex_df['Launch Site']=='CCAFS SLC-40']\n",
    "filtered_df=filtered_df.groupby('class').count()\n",
    "filtered_df['Result']=['Failure','Success']\n",
    "fig = px.pie(filtered_df, values='Launch Site', names='Result',  title='Site success rate')\n",
    "fig.show()"
   ]
  },
  {
   "cell_type": "code",
   "execution_count": null,
   "id": "105357a8",
   "metadata": {},
   "outputs": [
    {
     "name": "stdout",
     "output_type": "stream",
     "text": [
      "Dash is running on http://127.0.0.1:8050/\n",
      "\n",
      "Dash is running on http://127.0.0.1:8050/\n",
      "\n",
      " * Serving Flask app '__main__'\n",
      " * Debug mode: off\n"
     ]
    },
    {
     "name": "stderr",
     "output_type": "stream",
     "text": [
      "WARNING: This is a development server. Do not use it in a production deployment. Use a production WSGI server instead.\n",
      " * Running on http://127.0.0.1:8050\n",
      "Press CTRL+C to quit\n",
      "127.0.0.1 - - [19/Sep/2022 20:17:36] \"GET / HTTP/1.1\" 200 -\n",
      "127.0.0.1 - - [19/Sep/2022 20:17:37] \"GET /_dash-layout HTTP/1.1\" 200 -\n",
      "127.0.0.1 - - [19/Sep/2022 20:17:37] \"GET /_dash-dependencies HTTP/1.1\" 200 -\n",
      "127.0.0.1 - - [19/Sep/2022 20:17:37] \"GET /_dash-component-suites/dash/dcc/async-dropdown.js HTTP/1.1\" 304 -\n",
      "127.0.0.1 - - [19/Sep/2022 20:17:37] \"GET /_dash-component-suites/dash/dcc/async-graph.js HTTP/1.1\" 304 -\n",
      "127.0.0.1 - - [19/Sep/2022 20:17:37] \"GET /_dash-component-suites/dash/dcc/async-slider.js HTTP/1.1\" 304 -\n",
      "127.0.0.1 - - [19/Sep/2022 20:17:37] \"GET /_dash-component-suites/dash/dcc/async-plotlyjs.js HTTP/1.1\" 304 -\n"
     ]
    }
   ],
   "source": [
    "\n",
    "# Run the app\n",
    "if __name__ == '__main__':\n",
    "    app.run_server()"
   ]
  },
  {
   "cell_type": "code",
   "execution_count": null,
   "id": "aea384e1-3665-4afd-b532-26bcf606f213",
   "metadata": {},
   "outputs": [],
   "source": []
  }
 ],
 "metadata": {
  "kernelspec": {
   "display_name": "Python 3 (ipykernel)",
   "language": "python",
   "name": "python3"
  },
  "language_info": {
   "codemirror_mode": {
    "name": "ipython",
    "version": 3
   },
   "file_extension": ".py",
   "mimetype": "text/x-python",
   "name": "python",
   "nbconvert_exporter": "python",
   "pygments_lexer": "ipython3",
   "version": "3.9.12"
  }
 },
 "nbformat": 4,
 "nbformat_minor": 5
}
